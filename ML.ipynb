{
 "cells": [
  {
   "cell_type": "markdown",
   "metadata": {},
   "source": [
    "# Create a Machine Learning Model for the Web App\n",
    "\n",
    "This notebook will cover:\n",
    "\n",
    "- Feature Selection (cont. from EDA)\n",
    "- Machine Learning Model Selection\n",
    "- Testing Model\n",
    "- Saving (Pickle) the ML model"
   ]
  },
  {
   "cell_type": "code",
   "execution_count": 1,
   "metadata": {},
   "outputs": [],
   "source": [
    "import pandas as pd\n",
    "import numpy as np\n",
    "import matplotlib.pyplot as plt\n",
    "import seaborn as sns\n",
    "import warnings\n",
    "warnings.simplefilter('ignore')\n",
    "\n",
    "from sklearn.ensemble import RandomForestRegressor\n",
    "from sklearn.model_selection import train_test_split\n",
    "from sklearn import model_selection, tree, preprocessing, metrics, linear_model\n",
    "from sklearn.svm import SVR\n",
    "from sklearn.tree import DecisionTreeRegressor\n",
    "from sklearn.linear_model import LinearRegression"
   ]
  },
  {
   "cell_type": "code",
   "execution_count": 2,
   "metadata": {},
   "outputs": [
    {
     "data": {
      "text/html": [
       "<div>\n",
       "<style scoped>\n",
       "    .dataframe tbody tr th:only-of-type {\n",
       "        vertical-align: middle;\n",
       "    }\n",
       "\n",
       "    .dataframe tbody tr th {\n",
       "        vertical-align: top;\n",
       "    }\n",
       "\n",
       "    .dataframe thead th {\n",
       "        text-align: right;\n",
       "    }\n",
       "</style>\n",
       "<table border=\"1\" class=\"dataframe\">\n",
       "  <thead>\n",
       "    <tr style=\"text-align: right;\">\n",
       "      <th></th>\n",
       "      <th>SA2_NAME</th>\n",
       "      <th>SA2_MAINCODE</th>\n",
       "      <th>Number of available beds</th>\n",
       "      <th>Population</th>\n",
       "      <th>Median_Annual_Income</th>\n",
       "      <th>No_of_Dwellings</th>\n",
       "      <th>No_of_people_earning_income</th>\n",
       "      <th>No_of_tertiary_educated</th>\n",
       "      <th>Ppl_on_Mortgage</th>\n",
       "      <th>Number_of_renters</th>\n",
       "      <th>No_of_indigenous_ppl</th>\n",
       "      <th>AREA_ALBERS_SQKM</th>\n",
       "    </tr>\n",
       "  </thead>\n",
       "  <tbody>\n",
       "    <tr>\n",
       "      <th>0</th>\n",
       "      <td>ACT - South West</td>\n",
       "      <td>801111140</td>\n",
       "      <td>45.7</td>\n",
       "      <td>5158</td>\n",
       "      <td>66401</td>\n",
       "      <td>190</td>\n",
       "      <td>317</td>\n",
       "      <td>109</td>\n",
       "      <td>53</td>\n",
       "      <td>31</td>\n",
       "      <td>0</td>\n",
       "      <td>416.6124</td>\n",
       "    </tr>\n",
       "    <tr>\n",
       "      <th>1</th>\n",
       "      <td>Acton - Upper Burnie</td>\n",
       "      <td>604011075</td>\n",
       "      <td>145.0</td>\n",
       "      <td>3206</td>\n",
       "      <td>46033</td>\n",
       "      <td>1628</td>\n",
       "      <td>1184</td>\n",
       "      <td>135</td>\n",
       "      <td>438</td>\n",
       "      <td>556</td>\n",
       "      <td>5</td>\n",
       "      <td>2.1455</td>\n",
       "    </tr>\n",
       "    <tr>\n",
       "      <th>2</th>\n",
       "      <td>Adelaide</td>\n",
       "      <td>401011001</td>\n",
       "      <td>812.0</td>\n",
       "      <td>16285</td>\n",
       "      <td>54807</td>\n",
       "      <td>8147</td>\n",
       "      <td>5972</td>\n",
       "      <td>5237</td>\n",
       "      <td>904</td>\n",
       "      <td>3978</td>\n",
       "      <td>7</td>\n",
       "      <td>10.4824</td>\n",
       "    </tr>\n",
       "    <tr>\n",
       "      <th>3</th>\n",
       "      <td>Adelaide Hills</td>\n",
       "      <td>401021003</td>\n",
       "      <td>17.0</td>\n",
       "      <td>6914</td>\n",
       "      <td>60508</td>\n",
       "      <td>2670</td>\n",
       "      <td>3558</td>\n",
       "      <td>944</td>\n",
       "      <td>1132</td>\n",
       "      <td>227</td>\n",
       "      <td>0</td>\n",
       "      <td>364.4390</td>\n",
       "    </tr>\n",
       "    <tr>\n",
       "      <th>4</th>\n",
       "      <td>Airlie - Whitsundays</td>\n",
       "      <td>312031359</td>\n",
       "      <td>33.0</td>\n",
       "      <td>13375</td>\n",
       "      <td>50559</td>\n",
       "      <td>5701</td>\n",
       "      <td>6653</td>\n",
       "      <td>1359</td>\n",
       "      <td>1061</td>\n",
       "      <td>1788</td>\n",
       "      <td>22</td>\n",
       "      <td>304.0111</td>\n",
       "    </tr>\n",
       "  </tbody>\n",
       "</table>\n",
       "</div>"
      ],
      "text/plain": [
       "               SA2_NAME  SA2_MAINCODE  Number of available beds  Population  \\\n",
       "0      ACT - South West     801111140                      45.7        5158   \n",
       "1  Acton - Upper Burnie     604011075                     145.0        3206   \n",
       "2              Adelaide     401011001                     812.0       16285   \n",
       "3        Adelaide Hills     401021003                      17.0        6914   \n",
       "4  Airlie - Whitsundays     312031359                      33.0       13375   \n",
       "\n",
       "   Median_Annual_Income  No_of_Dwellings  No_of_people_earning_income  \\\n",
       "0                 66401              190                          317   \n",
       "1                 46033             1628                         1184   \n",
       "2                 54807             8147                         5972   \n",
       "3                 60508             2670                         3558   \n",
       "4                 50559             5701                         6653   \n",
       "\n",
       "   No_of_tertiary_educated  Ppl_on_Mortgage  Number_of_renters  \\\n",
       "0                      109               53                 31   \n",
       "1                      135              438                556   \n",
       "2                     5237              904               3978   \n",
       "3                      944             1132                227   \n",
       "4                     1359             1061               1788   \n",
       "\n",
       "   No_of_indigenous_ppl  AREA_ALBERS_SQKM  \n",
       "0                     0          416.6124  \n",
       "1                     5            2.1455  \n",
       "2                     7           10.4824  \n",
       "3                     0          364.4390  \n",
       "4                    22          304.0111  "
      ]
     },
     "execution_count": 2,
     "metadata": {},
     "output_type": "execute_result"
    }
   ],
   "source": [
    "df = pd.read_excel(\"Output_Data/new_df.xlsx\")\n",
    "df.head()"
   ]
  },
  {
   "cell_type": "code",
   "execution_count": 3,
   "metadata": {},
   "outputs": [],
   "source": [
    "X_train = df.drop(['Number of available beds', 'SA2_NAME', 'SA2_MAINCODE', 'AREA_ALBERS_SQKM'], axis=1).fillna(0)\n",
    "y_train = df['Number of available beds'].fillna(0)"
   ]
  },
  {
   "cell_type": "code",
   "execution_count": 4,
   "metadata": {},
   "outputs": [
    {
     "data": {
      "text/plain": [
       "Text(0.5, 1.0, 'Which Feature(s) are most important')"
      ]
     },
     "execution_count": 4,
     "metadata": {},
     "output_type": "execute_result"
    },
    {
     "data": {
      "image/png": "[encoded data removed]",
      "text/plain": [
       "<Figure size 720x720 with 1 Axes>"
      ]
     },
     "metadata": {
      "needs_background": "light"
     },
     "output_type": "display_data"
    }
   ],
   "source": [
    "#Feature importance\n",
    "from sklearn.ensemble import RandomForestRegressor\n",
    "rfr = RandomForestRegressor(n_estimators=1000, random_state=0, n_jobs=-1)\n",
    "rfr.fit(X_train, y_train)\n",
    "\n",
    "f_im = rfr.feature_importances_.round(2)\n",
    "rank = pd.Series(f_im, index=X_train.columns).sort_values(ascending=False)\n",
    "\n",
    "figsize = [10.0, 10.0]\n",
    "\n",
    "plt.figure(figsize=figsize)\n",
    "sns.barplot(y=rank.index,x=rank.values,palette='muted')\n",
    "plt.xlabel('Importance')\n",
    "plt.title('Which Feature(s) are most important')"
   ]
  },
  {
   "cell_type": "markdown",
   "metadata": {},
   "source": [
    "## Reduce the number of features and select the best features for End User Experience"
   ]
  },
  {
   "cell_type": "code",
   "execution_count": 5,
   "metadata": {},
   "outputs": [
    {
     "data": {
      "text/html": [
       "<div>\n",
       "<style scoped>\n",
       "    .dataframe tbody tr th:only-of-type {\n",
       "        vertical-align: middle;\n",
       "    }\n",
       "\n",
       "    .dataframe tbody tr th {\n",
       "        vertical-align: top;\n",
       "    }\n",
       "\n",
       "    .dataframe thead th {\n",
       "        text-align: right;\n",
       "    }\n",
       "</style>\n",
       "<table border=\"1\" class=\"dataframe\">\n",
       "  <thead>\n",
       "    <tr style=\"text-align: right;\">\n",
       "      <th></th>\n",
       "      <th>Population</th>\n",
       "      <th>Median_Annual_Income</th>\n",
       "      <th>No_of_Dwellings</th>\n",
       "      <th>No_of_people_earning_income</th>\n",
       "      <th>No_of_tertiary_educated</th>\n",
       "      <th>Ppl_on_Mortgage</th>\n",
       "      <th>Number_of_renters</th>\n",
       "      <th>No_of_indigenous_ppl</th>\n",
       "    </tr>\n",
       "  </thead>\n",
       "  <tbody>\n",
       "    <tr>\n",
       "      <th>0</th>\n",
       "      <td>5158</td>\n",
       "      <td>66401</td>\n",
       "      <td>190</td>\n",
       "      <td>317</td>\n",
       "      <td>109</td>\n",
       "      <td>53</td>\n",
       "      <td>31</td>\n",
       "      <td>0</td>\n",
       "    </tr>\n",
       "    <tr>\n",
       "      <th>1</th>\n",
       "      <td>3206</td>\n",
       "      <td>46033</td>\n",
       "      <td>1628</td>\n",
       "      <td>1184</td>\n",
       "      <td>135</td>\n",
       "      <td>438</td>\n",
       "      <td>556</td>\n",
       "      <td>5</td>\n",
       "    </tr>\n",
       "    <tr>\n",
       "      <th>2</th>\n",
       "      <td>16285</td>\n",
       "      <td>54807</td>\n",
       "      <td>8147</td>\n",
       "      <td>5972</td>\n",
       "      <td>5237</td>\n",
       "      <td>904</td>\n",
       "      <td>3978</td>\n",
       "      <td>7</td>\n",
       "    </tr>\n",
       "    <tr>\n",
       "      <th>3</th>\n",
       "      <td>6914</td>\n",
       "      <td>60508</td>\n",
       "      <td>2670</td>\n",
       "      <td>3558</td>\n",
       "      <td>944</td>\n",
       "      <td>1132</td>\n",
       "      <td>227</td>\n",
       "      <td>0</td>\n",
       "    </tr>\n",
       "    <tr>\n",
       "      <th>4</th>\n",
       "      <td>13375</td>\n",
       "      <td>50559</td>\n",
       "      <td>5701</td>\n",
       "      <td>6653</td>\n",
       "      <td>1359</td>\n",
       "      <td>1061</td>\n",
       "      <td>1788</td>\n",
       "      <td>22</td>\n",
       "    </tr>\n",
       "  </tbody>\n",
       "</table>\n",
       "</div>"
      ],
      "text/plain": [
       "   Population  Median_Annual_Income  No_of_Dwellings  \\\n",
       "0        5158                 66401              190   \n",
       "1        3206                 46033             1628   \n",
       "2       16285                 54807             8147   \n",
       "3        6914                 60508             2670   \n",
       "4       13375                 50559             5701   \n",
       "\n",
       "   No_of_people_earning_income  No_of_tertiary_educated  Ppl_on_Mortgage  \\\n",
       "0                          317                      109               53   \n",
       "1                         1184                      135              438   \n",
       "2                         5972                     5237              904   \n",
       "3                         3558                      944             1132   \n",
       "4                         6653                     1359             1061   \n",
       "\n",
       "   Number_of_renters  No_of_indigenous_ppl  \n",
       "0                 31                     0  \n",
       "1                556                     5  \n",
       "2               3978                     7  \n",
       "3                227                     0  \n",
       "4               1788                    22  "
      ]
     },
     "execution_count": 5,
     "metadata": {},
     "output_type": "execute_result"
    }
   ],
   "source": [
    "X_train.head()"
   ]
  },
  {
   "cell_type": "code",
   "execution_count": 6,
   "metadata": {},
   "outputs": [],
   "source": [
    "X_train= X_train[[\"Population\", \"No_of_Dwellings\", \"Median_Annual_Income\", \"No_of_tertiary_educated\"]]"
   ]
  },
  {
   "cell_type": "code",
   "execution_count": 7,
   "metadata": {},
   "outputs": [
    {
     "data": {
      "text/html": [
       "<div>\n",
       "<style scoped>\n",
       "    .dataframe tbody tr th:only-of-type {\n",
       "        vertical-align: middle;\n",
       "    }\n",
       "\n",
       "    .dataframe tbody tr th {\n",
       "        vertical-align: top;\n",
       "    }\n",
       "\n",
       "    .dataframe thead th {\n",
       "        text-align: right;\n",
       "    }\n",
       "</style>\n",
       "<table border=\"1\" class=\"dataframe\">\n",
       "  <thead>\n",
       "    <tr style=\"text-align: right;\">\n",
       "      <th></th>\n",
       "      <th>Population</th>\n",
       "      <th>No_of_Dwellings</th>\n",
       "      <th>Median_Annual_Income</th>\n",
       "      <th>No_of_tertiary_educated</th>\n",
       "    </tr>\n",
       "  </thead>\n",
       "  <tbody>\n",
       "    <tr>\n",
       "      <th>0</th>\n",
       "      <td>5158</td>\n",
       "      <td>190</td>\n",
       "      <td>66401</td>\n",
       "      <td>109</td>\n",
       "    </tr>\n",
       "    <tr>\n",
       "      <th>1</th>\n",
       "      <td>3206</td>\n",
       "      <td>1628</td>\n",
       "      <td>46033</td>\n",
       "      <td>135</td>\n",
       "    </tr>\n",
       "    <tr>\n",
       "      <th>2</th>\n",
       "      <td>16285</td>\n",
       "      <td>8147</td>\n",
       "      <td>54807</td>\n",
       "      <td>5237</td>\n",
       "    </tr>\n",
       "    <tr>\n",
       "      <th>3</th>\n",
       "      <td>6914</td>\n",
       "      <td>2670</td>\n",
       "      <td>60508</td>\n",
       "      <td>944</td>\n",
       "    </tr>\n",
       "    <tr>\n",
       "      <th>4</th>\n",
       "      <td>13375</td>\n",
       "      <td>5701</td>\n",
       "      <td>50559</td>\n",
       "      <td>1359</td>\n",
       "    </tr>\n",
       "  </tbody>\n",
       "</table>\n",
       "</div>"
      ],
      "text/plain": [
       "   Population  No_of_Dwellings  Median_Annual_Income  No_of_tertiary_educated\n",
       "0        5158              190                 66401                      109\n",
       "1        3206             1628                 46033                      135\n",
       "2       16285             8147                 54807                     5237\n",
       "3        6914             2670                 60508                      944\n",
       "4       13375             5701                 50559                     1359"
      ]
     },
     "execution_count": 7,
     "metadata": {},
     "output_type": "execute_result"
    }
   ],
   "source": [
    "X_train.head()"
   ]
  },
  {
   "cell_type": "code",
   "execution_count": 8,
   "metadata": {},
   "outputs": [
    {
     "data": {
      "text/plain": [
       "Text(0.5, 1.0, 'Which Feature(s) are most important')"
      ]
     },
     "execution_count": 8,
     "metadata": {},
     "output_type": "execute_result"
    },
    {
     "data": {
      "image/png": "[encoded data removed]",
      "text/plain": [
       "<Figure size 720x720 with 1 Axes>"
      ]
     },
     "metadata": {
      "needs_background": "light"
     },
     "output_type": "display_data"
    }
   ],
   "source": [
    "#Feature importance\n",
    "from sklearn.ensemble import RandomForestRegressor\n",
    "rfr = RandomForestRegressor(n_estimators=1000, random_state=0, n_jobs=-1)\n",
    "rfr.fit(X_train, y_train)\n",
    "\n",
    "f_im = rfr.feature_importances_.round(2)\n",
    "rank = pd.Series(f_im, index=X_train.columns).sort_values(ascending=False)\n",
    "\n",
    "figsize = [10.0, 10.0]\n",
    "\n",
    "plt.figure(figsize=figsize)\n",
    "sns.barplot(y=rank.index,x=rank.values,palette='muted')\n",
    "plt.xlabel('Importance')\n",
    "plt.title('Which Feature(s) are most important')"
   ]
  },
  {
   "cell_type": "markdown",
   "metadata": {},
   "source": [
    "## Determine which Regression model performs the best "
   ]
  },
  {
   "cell_type": "code",
   "execution_count": 9,
   "metadata": {},
   "outputs": [],
   "source": [
    "# Import machine learning modules\n",
    "\n",
    "from sklearn.model_selection import train_test_split\n",
    "from sklearn import model_selection, tree, preprocessing, metrics, linear_model\n",
    "from sklearn.svm import SVR\n",
    "from sklearn.tree import DecisionTreeRegressor\n",
    "from sklearn.ensemble import RandomForestRegressor\n",
    "from sklearn.linear_model import LinearRegression \n",
    "\n",
    "# Function that runs the requested algorithm and returns the accuracy metrics\n",
    "\n",
    "# Reference: https://github.com/mrdbourke/your-first-kaggle-submission/blob/master/kaggle-titanic-dataset-example-submission-workflow.ipynb\n",
    "\n",
    "def fit_ml_algo(algo, X_train, y_train, cv):\n",
    "    \n",
    "    # One Pass\n",
    "    model = algo.fit(X_train, y_train)\n",
    "    score = round(model.score(X_train, y_train) * 100, 2)\n",
    "    \n",
    "    # Cross Validation \n",
    "    train_pred = model_selection.cross_val_predict(algo, \n",
    "                                                  X_train, \n",
    "                                                  y_train, \n",
    "                                                  cv=cv, \n",
    "                                                  n_jobs = -1)\n",
    "    \n",
    "    return train_pred, score\n",
    "\n",
    "\n",
    "\n",
    "# Random Forest Regressor ----------------------------------------------------------------\n",
    "\n",
    "train_pred_log, acc_rfor = fit_ml_algo(RandomForestRegressor(), \n",
    "                                                               X_train, \n",
    "                                                               y_train, \n",
    "                                                                    10)\n",
    "\n",
    "# Linear Regression ---------------------------------------------------------------------\n",
    "\n",
    "train_pred_log, acc_lin = fit_ml_algo(LinearRegression(), \n",
    "                                                               X_train, \n",
    "                                                               y_train, \n",
    "                                                                    10)\n",
    "\n",
    "\n",
    "# Decision Tree Regressor --------------------------------------------------------------------\n",
    "\n",
    "train_pred_knn, acc_dtr = fit_ml_algo(DecisionTreeRegressor(), \n",
    "                                                  X_train, \n",
    "                                                  y_train, \n",
    "                                                  10)\n",
    "\n",
    "\n",
    "# Support Vector Regressor --------------------------------------------------------------------\n",
    "\n",
    "train_pred_svr, acc_svr = fit_ml_algo(SVR(),\n",
    "                                           X_train,\n",
    "                                           y_train,\n",
    "                                           10)\n",
    "\n",
    "\n"
   ]
  },
  {
   "cell_type": "code",
   "execution_count": 10,
   "metadata": {},
   "outputs": [
    {
     "name": "stdout",
     "output_type": "stream",
     "text": [
      "---Accuracy Scores---\n"
     ]
    },
    {
     "data": {
      "text/html": [
       "<div>\n",
       "<style scoped>\n",
       "    .dataframe tbody tr th:only-of-type {\n",
       "        vertical-align: middle;\n",
       "    }\n",
       "\n",
       "    .dataframe tbody tr th {\n",
       "        vertical-align: top;\n",
       "    }\n",
       "\n",
       "    .dataframe thead th {\n",
       "        text-align: right;\n",
       "    }\n",
       "</style>\n",
       "<table border=\"1\" class=\"dataframe\">\n",
       "  <thead>\n",
       "    <tr style=\"text-align: right;\">\n",
       "      <th></th>\n",
       "      <th>Model</th>\n",
       "      <th>Score</th>\n",
       "    </tr>\n",
       "  </thead>\n",
       "  <tbody>\n",
       "    <tr>\n",
       "      <th>2</th>\n",
       "      <td>DecisionTreeRegressor</td>\n",
       "      <td>100.00</td>\n",
       "    </tr>\n",
       "    <tr>\n",
       "      <th>0</th>\n",
       "      <td>RandomForestRegressor</td>\n",
       "      <td>87.69</td>\n",
       "    </tr>\n",
       "    <tr>\n",
       "      <th>1</th>\n",
       "      <td>LinearRegression</td>\n",
       "      <td>13.94</td>\n",
       "    </tr>\n",
       "    <tr>\n",
       "      <th>3</th>\n",
       "      <td>SVR</td>\n",
       "      <td>-18.11</td>\n",
       "    </tr>\n",
       "  </tbody>\n",
       "</table>\n",
       "</div>"
      ],
      "text/plain": [
       "                   Model   Score\n",
       "2  DecisionTreeRegressor  100.00\n",
       "0  RandomForestRegressor   87.69\n",
       "1       LinearRegression   13.94\n",
       "3                    SVR  -18.11"
      ]
     },
     "execution_count": 10,
     "metadata": {},
     "output_type": "execute_result"
    }
   ],
   "source": [
    "\n",
    "# Accuracy Scores --------------------------------------------------------------------------\n",
    "\n",
    "models = pd.DataFrame({\n",
    "    'Model': ['RandomForestRegressor', 'LinearRegression', 'DecisionTreeRegressor', 'SVR'],\n",
    "    'Score': [\n",
    "        acc_rfor,\n",
    "        acc_lin, \n",
    "        acc_dtr, \n",
    "        acc_svr\n",
    "    ]})\n",
    "print(\"---Accuracy Scores---\")\n",
    "models.sort_values(by='Score', ascending=False)"
   ]
  },
  {
   "cell_type": "markdown",
   "metadata": {},
   "source": [
    "## Hyperparameter Training\n",
    "\n",
    "### Determine what the max_depth should be for the Random Forest Regressor"
   ]
  },
  {
   "cell_type": "code",
   "execution_count": 11,
   "metadata": {},
   "outputs": [
    {
     "name": "stdout",
     "output_type": "stream",
     "text": [
      "87.86\n"
     ]
    }
   ],
   "source": [
    "regressor = RandomForestRegressor(max_depth=17)\n",
    "regressor.fit(X_train,y_train)\n",
    "print(round(regressor.score(X_train, y_train) * 100, 2))"
   ]
  },
  {
   "cell_type": "markdown",
   "metadata": {},
   "source": [
    "# Test the model to compare with App"
   ]
  },
  {
   "cell_type": "code",
   "execution_count": 12,
   "metadata": {},
   "outputs": [
    {
     "data": {
      "text/plain": [
       "Index(['Population', 'No_of_Dwellings', 'Median_Annual_Income',\n",
       "       'No_of_tertiary_educated'],\n",
       "      dtype='object')"
      ]
     },
     "execution_count": 12,
     "metadata": {},
     "output_type": "execute_result"
    }
   ],
   "source": [
    "X_train.columns"
   ]
  },
  {
   "cell_type": "code",
   "execution_count": 13,
   "metadata": {},
   "outputs": [
    {
     "data": {
      "text/html": [
       "<div>\n",
       "<style scoped>\n",
       "    .dataframe tbody tr th:only-of-type {\n",
       "        vertical-align: middle;\n",
       "    }\n",
       "\n",
       "    .dataframe tbody tr th {\n",
       "        vertical-align: top;\n",
       "    }\n",
       "\n",
       "    .dataframe thead th {\n",
       "        text-align: right;\n",
       "    }\n",
       "</style>\n",
       "<table border=\"1\" class=\"dataframe\">\n",
       "  <thead>\n",
       "    <tr style=\"text-align: right;\">\n",
       "      <th></th>\n",
       "      <th>Population</th>\n",
       "      <th>No_of_Dwellings</th>\n",
       "      <th>Median_Annual_Income</th>\n",
       "      <th>No_of_tertiary_educated</th>\n",
       "    </tr>\n",
       "  </thead>\n",
       "  <tbody>\n",
       "    <tr>\n",
       "      <th>count</th>\n",
       "      <td>901.000000</td>\n",
       "      <td>901.000000</td>\n",
       "      <td>901.000000</td>\n",
       "      <td>901.000000</td>\n",
       "    </tr>\n",
       "    <tr>\n",
       "      <th>mean</th>\n",
       "      <td>10147.988901</td>\n",
       "      <td>4425.204218</td>\n",
       "      <td>55533.567148</td>\n",
       "      <td>1393.096559</td>\n",
       "    </tr>\n",
       "    <tr>\n",
       "      <th>std</th>\n",
       "      <td>6343.516110</td>\n",
       "      <td>2642.198249</td>\n",
       "      <td>11445.221428</td>\n",
       "      <td>1586.195346</td>\n",
       "    </tr>\n",
       "    <tr>\n",
       "      <th>min</th>\n",
       "      <td>52.000000</td>\n",
       "      <td>3.000000</td>\n",
       "      <td>29045.000000</td>\n",
       "      <td>4.000000</td>\n",
       "    </tr>\n",
       "    <tr>\n",
       "      <th>25%</th>\n",
       "      <td>5281.000000</td>\n",
       "      <td>2437.000000</td>\n",
       "      <td>47977.000000</td>\n",
       "      <td>434.000000</td>\n",
       "    </tr>\n",
       "    <tr>\n",
       "      <th>50%</th>\n",
       "      <td>8237.000000</td>\n",
       "      <td>3749.000000</td>\n",
       "      <td>53634.000000</td>\n",
       "      <td>851.000000</td>\n",
       "    </tr>\n",
       "    <tr>\n",
       "      <th>75%</th>\n",
       "      <td>13973.000000</td>\n",
       "      <td>5936.000000</td>\n",
       "      <td>60753.000000</td>\n",
       "      <td>1750.000000</td>\n",
       "    </tr>\n",
       "    <tr>\n",
       "      <th>max</th>\n",
       "      <td>33811.000000</td>\n",
       "      <td>20156.000000</td>\n",
       "      <td>119477.000000</td>\n",
       "      <td>11753.000000</td>\n",
       "    </tr>\n",
       "  </tbody>\n",
       "</table>\n",
       "</div>"
      ],
      "text/plain": [
       "         Population  No_of_Dwellings  Median_Annual_Income  \\\n",
       "count    901.000000       901.000000            901.000000   \n",
       "mean   10147.988901      4425.204218          55533.567148   \n",
       "std     6343.516110      2642.198249          11445.221428   \n",
       "min       52.000000         3.000000          29045.000000   \n",
       "25%     5281.000000      2437.000000          47977.000000   \n",
       "50%     8237.000000      3749.000000          53634.000000   \n",
       "75%    13973.000000      5936.000000          60753.000000   \n",
       "max    33811.000000     20156.000000         119477.000000   \n",
       "\n",
       "       No_of_tertiary_educated  \n",
       "count               901.000000  \n",
       "mean               1393.096559  \n",
       "std                1586.195346  \n",
       "min                   4.000000  \n",
       "25%                 434.000000  \n",
       "50%                 851.000000  \n",
       "75%                1750.000000  \n",
       "max               11753.000000  "
      ]
     },
     "execution_count": 13,
     "metadata": {},
     "output_type": "execute_result"
    }
   ],
   "source": [
    "X_train.describe()"
   ]
  },
  {
   "cell_type": "code",
   "execution_count": 14,
   "metadata": {},
   "outputs": [
    {
     "name": "stdout",
     "output_type": "stream",
     "text": [
      "[284.93408333]\n"
     ]
    }
   ],
   "source": [
    "Population = 8237\n",
    "No_of_Dwellings = 3749\n",
    "Median_Annual_Income = 53634\n",
    "No_of_tertiary_educated = 851\n",
    "\n",
    "\n",
    "print(regressor.predict([[Population,\n",
    "                          No_of_Dwellings,\n",
    "                          Median_Annual_Income,\n",
    "                          No_of_tertiary_educated]]))"
   ]
  },
  {
   "cell_type": "markdown",
   "metadata": {},
   "source": [
    "## Save the ML model to be used in Web App"
   ]
  },
  {
   "cell_type": "code",
   "execution_count": 15,
   "metadata": {},
   "outputs": [],
   "source": [
    "import pickle\n",
    "\n",
    "filename = 'Model\\hospital_bed_pred.pkl'\n",
    "pickle.dump(regressor, open(filename, 'wb'))"
   ]
  }
 ],
 "metadata": {
  "kernelspec": {
   "display_name": "Python 3",
   "language": "python",
   "name": "python3"
  },
  "language_info": {
   "codemirror_mode": {
    "name": "ipython",
    "version": 3
   },
   "file_extension": ".py",
   "mimetype": "text/x-python",
   "name": "python",
   "nbconvert_exporter": "python",
   "pygments_lexer": "ipython3",
   "version": "3.8.3"
  }
 },
 "nbformat": 4,
 "nbformat_minor": 4
}
